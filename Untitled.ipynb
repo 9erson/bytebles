{
 "cells": [
  {
   "cell_type": "code",
   "execution_count": 3,
   "id": "d6f930f5-0613-4bb0-b221-8426dbe5e770",
   "metadata": {},
   "outputs": [
    {
     "name": "stdout",
     "output_type": "stream",
     "text": [
      "pygame 2.3.0 (SDL 2.24.2, Python 3.9.13)\n",
      "Hello from the pygame community. https://www.pygame.org/contribute.html\n"
     ]
    }
   ],
   "source": [
    "import pygame\n",
    "import math"
   ]
  },
  {
   "cell_type": "code",
   "execution_count": 2,
   "id": "976941eb-4bb1-4cb5-89f9-b927ed4721f7",
   "metadata": {},
   "outputs": [
    {
     "name": "stdout",
     "output_type": "stream",
     "text": [
      "Collecting pygame\n",
      "  Downloading pygame-2.3.0-cp39-cp39-macosx_11_0_arm64.whl (12.2 MB)\n",
      "\u001b[2K     \u001b[90m━━━━━━━━━━━━━━━━━━━━━━━━━━━━━━━━━━━━━━━━\u001b[0m \u001b[32m12.2/12.2 MB\u001b[0m \u001b[31m34.0 MB/s\u001b[0m eta \u001b[36m0:00:00\u001b[0m00:01\u001b[0m0:01\u001b[0m\n",
      "\u001b[?25hInstalling collected packages: pygame\n",
      "Successfully installed pygame-2.3.0\n"
     ]
    }
   ],
   "source": [
    "!pip install pygame"
   ]
  },
  {
   "cell_type": "code",
   "execution_count": 4,
   "id": "9b6311dd-0d85-43ca-a002-763f1c89ffb7",
   "metadata": {},
   "outputs": [
    {
     "data": {
      "text/plain": [
       "(5, 0)"
      ]
     },
     "execution_count": 4,
     "metadata": {},
     "output_type": "execute_result"
    }
   ],
   "source": [
    "# Initialize Pygame\n",
    "pygame.init()"
   ]
  },
  {
   "cell_type": "code",
   "execution_count": 5,
   "id": "db94d2bc-23bb-4ece-956d-30a3de34d0b3",
   "metadata": {},
   "outputs": [],
   "source": [
    "# Set up the display\n",
    "width, height = 800, 600\n",
    "screen = pygame.display.set_mode((width, height))\n",
    "pygame.display.set_caption(\"Motion Simulation\")"
   ]
  },
  {
   "cell_type": "code",
   "execution_count": 6,
   "id": "4215ea40-7bc8-4c23-b852-c75c7223a502",
   "metadata": {},
   "outputs": [],
   "source": [
    "# Set up the clock\n",
    "clock = pygame.time.Clock()"
   ]
  },
  {
   "cell_type": "code",
   "execution_count": 7,
   "id": "9e7e342a-33c6-4816-a5da-56e4b6791ade",
   "metadata": {},
   "outputs": [],
   "source": [
    "# Define some colors\n",
    "WHITE = (255, 255, 255)\n",
    "BLACK = (0, 0, 0)\n",
    "BLUE = (0, 0, 255)"
   ]
  },
  {
   "cell_type": "code",
   "execution_count": 8,
   "id": "a670ae85-44e4-450b-ba89-38afe6bf7387",
   "metadata": {},
   "outputs": [],
   "source": [
    "# Define some variables for the simulation\n",
    "x = 400\n",
    "y = 300\n",
    "speed = 5\n",
    "angle = math.pi / 4"
   ]
  },
  {
   "cell_type": "code",
   "execution_count": 9,
   "id": "4d49d89a-c7c1-4e4e-b799-2f5bccd740c7",
   "metadata": {},
   "outputs": [],
   "source": [
    "# Define a function to update the position of the object\n",
    "def update_position():\n",
    "    global x, y, angle\n",
    "    x += speed * math.cos(angle)\n",
    "    y -= speed * math.sin(angle)\n",
    "    if x < 0 or x > width or y < 0 or y > height:\n",
    "        angle += math.pi / 2"
   ]
  },
  {
   "cell_type": "code",
   "execution_count": 10,
   "id": "e0e053d3-0ac7-4e46-9eb9-ee3fc65b9ac4",
   "metadata": {},
   "outputs": [],
   "source": [
    "# Run the simulation\n",
    "running = True\n",
    "while running:\n",
    "    # Handle events\n",
    "    for event in pygame.event.get():\n",
    "        if event.type == pygame.QUIT:\n",
    "            running = False\n",
    "\n",
    "    # Update the position of the object\n",
    "    update_position()\n",
    "\n",
    "    # Draw the object on the screen\n",
    "    screen.fill(WHITE)\n",
    "    pygame.draw.circle(screen, BLUE, (int(x), int(y)), 20)\n",
    "\n",
    "    # Update the display\n",
    "    pygame.display.update()\n",
    "\n",
    "    # Wait for a short amount of time to control the frame rate\n",
    "    clock.tick(60)"
   ]
  },
  {
   "cell_type": "code",
   "execution_count": 11,
   "id": "d007158e-94e6-4a60-9ccb-7a7446076cf1",
   "metadata": {},
   "outputs": [],
   "source": [
    "# Clean up\n",
    "pygame.quit()"
   ]
  },
  {
   "cell_type": "code",
   "execution_count": null,
   "id": "c3546e62-3bea-4463-b37c-9ecd320e5c7d",
   "metadata": {},
   "outputs": [],
   "source": []
  }
 ],
 "metadata": {
  "kernelspec": {
   "display_name": "Python 3 (ipykernel)",
   "language": "python",
   "name": "python3"
  },
  "language_info": {
   "codemirror_mode": {
    "name": "ipython",
    "version": 3
   },
   "file_extension": ".py",
   "mimetype": "text/x-python",
   "name": "python",
   "nbconvert_exporter": "python",
   "pygments_lexer": "ipython3",
   "version": "3.9.13"
  }
 },
 "nbformat": 4,
 "nbformat_minor": 5
}
